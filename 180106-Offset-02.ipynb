{
 "cells": [
  {
   "cell_type": "markdown",
   "metadata": {},
   "source": [
    "# Offset 02\n",
    "\n",
    "* First method not working\n",
    "    - some months have no zo value\n",
    "\n",
    "Solution\n",
    "\n",
    "* Duplicate zo values for the start of each month, for each sensor_id"
   ]
  },
  {
   "cell_type": "code",
   "execution_count": 1,
   "metadata": {
    "collapsed": true
   },
   "outputs": [],
   "source": [
    "import pandas as pd\n",
    "import numpy as np\n",
    "\n",
    "zo = pd.read_csv('zero-offset.csv')\n",
    "data = pd.read_csv('data1.csv')\n",
    "\n",
    "data.timestamp = pd.to_datetime(data['timestamp'], format='%Y-%m-%dT%H:%M:%S')\n",
    "data = data.sort_values('timestamp')\n",
    "data = data.reset_index()\n",
    "data = data.drop(['id', 'index'], axis=1)"
   ]
  },
  {
   "cell_type": "markdown",
   "metadata": {},
   "source": [
    "## What's inside the df?"
   ]
  },
  {
   "cell_type": "code",
   "execution_count": 2,
   "metadata": {},
   "outputs": [
    {
     "data": {
      "text/html": [
       "<div>\n",
       "<style>\n",
       "    .dataframe thead tr:only-child th {\n",
       "        text-align: right;\n",
       "    }\n",
       "\n",
       "    .dataframe thead th {\n",
       "        text-align: left;\n",
       "    }\n",
       "\n",
       "    .dataframe tbody tr th {\n",
       "        vertical-align: top;\n",
       "    }\n",
       "</style>\n",
       "<table border=\"1\" class=\"dataframe\">\n",
       "  <thead>\n",
       "    <tr style=\"text-align: right;\">\n",
       "      <th></th>\n",
       "      <th>Unnamed: 0</th>\n",
       "      <th>sensor_id</th>\n",
       "      <th>zero_offset_value</th>\n",
       "      <th>start_timestamp</th>\n",
       "    </tr>\n",
       "  </thead>\n",
       "  <tbody>\n",
       "    <tr>\n",
       "      <th>0</th>\n",
       "      <td>0</td>\n",
       "      <td>60</td>\n",
       "      <td>971.59</td>\n",
       "      <td>2016-01-10T19:57:57.046096</td>\n",
       "    </tr>\n",
       "    <tr>\n",
       "      <th>1</th>\n",
       "      <td>1</td>\n",
       "      <td>60</td>\n",
       "      <td>971.59</td>\n",
       "      <td>2016-01-10T20:08:45.564524</td>\n",
       "    </tr>\n",
       "    <tr>\n",
       "      <th>2</th>\n",
       "      <td>2</td>\n",
       "      <td>60</td>\n",
       "      <td>971.59</td>\n",
       "      <td>2016-01-12T16:06:29.952413</td>\n",
       "    </tr>\n",
       "    <tr>\n",
       "      <th>3</th>\n",
       "      <td>3</td>\n",
       "      <td>60</td>\n",
       "      <td>971.59</td>\n",
       "      <td>2016-01-14T08:04:48.571427</td>\n",
       "    </tr>\n",
       "    <tr>\n",
       "      <th>4</th>\n",
       "      <td>4</td>\n",
       "      <td>60</td>\n",
       "      <td>971.59</td>\n",
       "      <td>2016-01-14T08:51:59.052557</td>\n",
       "    </tr>\n",
       "  </tbody>\n",
       "</table>\n",
       "</div>"
      ],
      "text/plain": [
       "   Unnamed: 0  sensor_id  zero_offset_value             start_timestamp\n",
       "0           0         60             971.59  2016-01-10T19:57:57.046096\n",
       "1           1         60             971.59  2016-01-10T20:08:45.564524\n",
       "2           2         60             971.59  2016-01-12T16:06:29.952413\n",
       "3           3         60             971.59  2016-01-14T08:04:48.571427\n",
       "4           4         60             971.59  2016-01-14T08:51:59.052557"
      ]
     },
     "execution_count": 2,
     "metadata": {},
     "output_type": "execute_result"
    }
   ],
   "source": [
    "zo.head()"
   ]
  },
  {
   "cell_type": "code",
   "execution_count": 3,
   "metadata": {},
   "outputs": [
    {
     "data": {
      "text/html": [
       "<div>\n",
       "<style>\n",
       "    .dataframe thead tr:only-child th {\n",
       "        text-align: right;\n",
       "    }\n",
       "\n",
       "    .dataframe thead th {\n",
       "        text-align: left;\n",
       "    }\n",
       "\n",
       "    .dataframe tbody tr th {\n",
       "        vertical-align: top;\n",
       "    }\n",
       "</style>\n",
       "<table border=\"1\" class=\"dataframe\">\n",
       "  <thead>\n",
       "    <tr style=\"text-align: right;\">\n",
       "      <th></th>\n",
       "      <th>Unnamed: 0</th>\n",
       "      <th>sensor_id</th>\n",
       "      <th>zero_offset_value</th>\n",
       "      <th>start_timestamp</th>\n",
       "    </tr>\n",
       "  </thead>\n",
       "  <tbody>\n",
       "    <tr>\n",
       "      <th>33778</th>\n",
       "      <td>33778</td>\n",
       "      <td>1008</td>\n",
       "      <td>0.00</td>\n",
       "      <td>2017-04-11T21:49:10.673274</td>\n",
       "    </tr>\n",
       "    <tr>\n",
       "      <th>33779</th>\n",
       "      <td>33779</td>\n",
       "      <td>1227</td>\n",
       "      <td>416.11</td>\n",
       "      <td>2017-04-11T21:29:02.570998</td>\n",
       "    </tr>\n",
       "    <tr>\n",
       "      <th>33780</th>\n",
       "      <td>33780</td>\n",
       "      <td>1227</td>\n",
       "      <td>416.11</td>\n",
       "      <td>2017-04-11T21:49:10.673274</td>\n",
       "    </tr>\n",
       "    <tr>\n",
       "      <th>33781</th>\n",
       "      <td>33781</td>\n",
       "      <td>3003</td>\n",
       "      <td>0.00</td>\n",
       "      <td>2017-04-11T21:29:02.570998</td>\n",
       "    </tr>\n",
       "    <tr>\n",
       "      <th>33782</th>\n",
       "      <td>33782</td>\n",
       "      <td>3003</td>\n",
       "      <td>0.00</td>\n",
       "      <td>2017-04-11T21:49:10.673274</td>\n",
       "    </tr>\n",
       "  </tbody>\n",
       "</table>\n",
       "</div>"
      ],
      "text/plain": [
       "       Unnamed: 0  sensor_id  zero_offset_value             start_timestamp\n",
       "33778       33778       1008               0.00  2017-04-11T21:49:10.673274\n",
       "33779       33779       1227             416.11  2017-04-11T21:29:02.570998\n",
       "33780       33780       1227             416.11  2017-04-11T21:49:10.673274\n",
       "33781       33781       3003               0.00  2017-04-11T21:29:02.570998\n",
       "33782       33782       3003               0.00  2017-04-11T21:49:10.673274"
      ]
     },
     "execution_count": 3,
     "metadata": {},
     "output_type": "execute_result"
    }
   ],
   "source": [
    "zo.tail()"
   ]
  },
  {
   "cell_type": "code",
   "execution_count": 4,
   "metadata": {
    "collapsed": true
   },
   "outputs": [],
   "source": [
    "# Clean it up\n",
    "\n",
    "# Convert timestamp to datetime object                                                  \n",
    "zo.start_timestamp = pd.to_datetime(zo['start_timestamp'], format='%Y-%m-%dT%H:%M:%S')  \n",
    "# Sort by timestamp                                                                     \n",
    "zo = zo.sort_values('start_timestamp')                                                  \n",
    "zo = zo.reset_index()                                                                   \n",
    "# Drop redundant columns                                                                \n",
    "zo = zo.drop(['Unnamed: 0', 'index'], axis=1)                                           \n",
    "# Remove microseconds                                                                   \n",
    "zo.start_timestamp = zo.start_timestamp.apply(lambda x: x.replace(microsecond=0))       \n",
    "# Rename zo columns                                                                     \n",
    "zo.columns = ['sensor_id', 'offset_value', 'timestamp']"
   ]
  },
  {
   "cell_type": "code",
   "execution_count": 5,
   "metadata": {},
   "outputs": [
    {
     "data": {
      "text/plain": [
       "sensor_id                int64\n",
       "offset_value           float64\n",
       "timestamp       datetime64[ns]\n",
       "dtype: object"
      ]
     },
     "execution_count": 5,
     "metadata": {},
     "output_type": "execute_result"
    }
   ],
   "source": [
    "zo.dtypes"
   ]
  },
  {
   "cell_type": "code",
   "execution_count": 6,
   "metadata": {},
   "outputs": [
    {
     "data": {
      "text/html": [
       "<div>\n",
       "<style>\n",
       "    .dataframe thead tr:only-child th {\n",
       "        text-align: right;\n",
       "    }\n",
       "\n",
       "    .dataframe thead th {\n",
       "        text-align: left;\n",
       "    }\n",
       "\n",
       "    .dataframe tbody tr th {\n",
       "        vertical-align: top;\n",
       "    }\n",
       "</style>\n",
       "<table border=\"1\" class=\"dataframe\">\n",
       "  <thead>\n",
       "    <tr style=\"text-align: right;\">\n",
       "      <th></th>\n",
       "      <th>sensor_id</th>\n",
       "      <th>offset_value</th>\n",
       "      <th>timestamp</th>\n",
       "    </tr>\n",
       "  </thead>\n",
       "  <tbody>\n",
       "    <tr>\n",
       "      <th>0</th>\n",
       "      <td>60</td>\n",
       "      <td>971.59</td>\n",
       "      <td>2016-01-10 19:57:57</td>\n",
       "    </tr>\n",
       "    <tr>\n",
       "      <th>1</th>\n",
       "      <td>170</td>\n",
       "      <td>0.00</td>\n",
       "      <td>2016-01-10 19:57:57</td>\n",
       "    </tr>\n",
       "    <tr>\n",
       "      <th>2</th>\n",
       "      <td>103</td>\n",
       "      <td>0.00</td>\n",
       "      <td>2016-01-10 19:57:57</td>\n",
       "    </tr>\n",
       "    <tr>\n",
       "      <th>3</th>\n",
       "      <td>219</td>\n",
       "      <td>407.43</td>\n",
       "      <td>2016-01-10 19:57:57</td>\n",
       "    </tr>\n",
       "    <tr>\n",
       "      <th>4</th>\n",
       "      <td>171</td>\n",
       "      <td>0.00</td>\n",
       "      <td>2016-01-10 19:57:57</td>\n",
       "    </tr>\n",
       "  </tbody>\n",
       "</table>\n",
       "</div>"
      ],
      "text/plain": [
       "   sensor_id  offset_value           timestamp\n",
       "0         60        971.59 2016-01-10 19:57:57\n",
       "1        170          0.00 2016-01-10 19:57:57\n",
       "2        103          0.00 2016-01-10 19:57:57\n",
       "3        219        407.43 2016-01-10 19:57:57\n",
       "4        171          0.00 2016-01-10 19:57:57"
      ]
     },
     "execution_count": 6,
     "metadata": {},
     "output_type": "execute_result"
    }
   ],
   "source": [
    "zo.head()"
   ]
  },
  {
   "cell_type": "code",
   "execution_count": 7,
   "metadata": {},
   "outputs": [
    {
     "data": {
      "text/html": [
       "<div>\n",
       "<style>\n",
       "    .dataframe thead tr:only-child th {\n",
       "        text-align: right;\n",
       "    }\n",
       "\n",
       "    .dataframe thead th {\n",
       "        text-align: left;\n",
       "    }\n",
       "\n",
       "    .dataframe tbody tr th {\n",
       "        vertical-align: top;\n",
       "    }\n",
       "</style>\n",
       "<table border=\"1\" class=\"dataframe\">\n",
       "  <thead>\n",
       "    <tr style=\"text-align: right;\">\n",
       "      <th></th>\n",
       "      <th>sensor_id</th>\n",
       "      <th>offset_value</th>\n",
       "      <th>timestamp</th>\n",
       "    </tr>\n",
       "  </thead>\n",
       "  <tbody>\n",
       "    <tr>\n",
       "      <th>33778</th>\n",
       "      <td>221</td>\n",
       "      <td>-228.558044</td>\n",
       "      <td>2017-04-11 21:49:10</td>\n",
       "    </tr>\n",
       "    <tr>\n",
       "      <th>33779</th>\n",
       "      <td>108</td>\n",
       "      <td>0.000000</td>\n",
       "      <td>2017-04-11 21:49:10</td>\n",
       "    </tr>\n",
       "    <tr>\n",
       "      <th>33780</th>\n",
       "      <td>220</td>\n",
       "      <td>-621.843943</td>\n",
       "      <td>2017-04-11 21:49:10</td>\n",
       "    </tr>\n",
       "    <tr>\n",
       "      <th>33781</th>\n",
       "      <td>263</td>\n",
       "      <td>0.000000</td>\n",
       "      <td>2017-04-11 21:49:10</td>\n",
       "    </tr>\n",
       "    <tr>\n",
       "      <th>33782</th>\n",
       "      <td>3003</td>\n",
       "      <td>0.000000</td>\n",
       "      <td>2017-04-11 21:49:10</td>\n",
       "    </tr>\n",
       "  </tbody>\n",
       "</table>\n",
       "</div>"
      ],
      "text/plain": [
       "       sensor_id  offset_value           timestamp\n",
       "33778        221   -228.558044 2017-04-11 21:49:10\n",
       "33779        108      0.000000 2017-04-11 21:49:10\n",
       "33780        220   -621.843943 2017-04-11 21:49:10\n",
       "33781        263      0.000000 2017-04-11 21:49:10\n",
       "33782       3003      0.000000 2017-04-11 21:49:10"
      ]
     },
     "execution_count": 7,
     "metadata": {},
     "output_type": "execute_result"
    }
   ],
   "source": [
    "zo.tail()"
   ]
  },
  {
   "cell_type": "code",
   "execution_count": 8,
   "metadata": {},
   "outputs": [
    {
     "data": {
      "text/plain": [
       "array([  60,  170,  103,  219,  171,  172,   72,  102,  173,  174,  101,\n",
       "        218,  249,  175,  217,  100,  264,   73,  176,  177,   99,  216,\n",
       "        178,   98,  179,  215,   74,   97,  248,  180,  250,  241,  104,\n",
       "         71,  111,  159,  252,  224,  160,  110,  262,  161,  109,   69,\n",
       "        162,  163,  223,  108,  164,  222,  107,  251,  165,  270,   70,\n",
       "        166,  106,  167,  168,  105,  263,  220,  240,  169,  181,   96,\n",
       "        182,   88,  194,  245,  195,   87,  196,  208,  197,   86,   79,\n",
       "        198,   85,  267,  199,  207,   84,  244,  200,  268,   80,  201,\n",
       "         83,  206,  202,  203,  205,  243,   82,  204,   78,  209,  193,\n",
       "         89,  214,  183,  269,   75,   95,  265,  184,   94,  247,  185,\n",
       "        213,   93,  186,   76,   68,  187,  188,  212,  189,   91,  211,\n",
       "        246,  190,   77,   90,  266,  191,  210,  242,  192,   92,  158,\n",
       "        221,   81,  125,  119,  147,   62,  271,   65,  118,  148,  137,\n",
       "        234,  149,  229,  136,  117,  254,  150,  135,  151,  257,  237,\n",
       "        228,  259,  116,  146,  238,   63,  122,  232,  142,  140,  143,\n",
       "        256,  231,  123,  121,  144,  112,  233,   64,  120,  260,  139,\n",
       "        124,  255,  145,  230,  138,   66,  126,  141,  261,  134,  253,\n",
       "        227,  154,  113,  131,  132,  133,  114,  128,  226,  152,  236,\n",
       "        155,  235,  156,  129,  225,  258,  130,  127,  239,  153,   61,\n",
       "         67,  115,  157, 1002, 1004, 1001, 1003, 1006, 1005, 1007, 1008,\n",
       "        274,  273,  272, 1236, 1241, 1235, 1242, 1219, 1237, 1239, 1253,\n",
       "       1222, 1254, 1255, 1256, 1257, 1240, 1258, 1223, 1259, 1260, 1252,\n",
       "       1233, 1243, 1220, 1244, 1245, 1246, 1247, 1238, 1248, 1221, 1249,\n",
       "       1250, 1251, 1261, 1224, 1232, 1234, 1270, 1230, 1268, 1264, 1269,\n",
       "       1225, 1262, 1227, 1228, 1266, 1263, 1267, 1226, 1271, 1229, 1265,\n",
       "       1231, 2224, 2222, 2223, 2225, 3264, 3263, 2226, 2220, 2219, 2221,\n",
       "       2230, 2229, 3266, 3265, 2227, 2228, 3002, 3001, 2701, 2702, 2751,\n",
       "       2707, 2752, 2753, 2704, 2705, 2706, 2703, 2755, 2757, 2754, 2756,\n",
       "       3003], dtype=int64)"
      ]
     },
     "execution_count": 8,
     "metadata": {},
     "output_type": "execute_result"
    }
   ],
   "source": [
    "# unique sensor_ids\n",
    "sensor_ids = np.array(zo.sensor_id.unique())\n",
    "sensor_ids"
   ]
  },
  {
   "cell_type": "code",
   "execution_count": 9,
   "metadata": {},
   "outputs": [
    {
     "data": {
      "text/plain": [
       "array(['2016-01-01T00:00:00.000000000', '2016-02-01T00:00:00.000000000',\n",
       "       '2016-03-01T00:00:00.000000000', '2016-04-01T00:00:00.000000000',\n",
       "       '2016-05-01T00:00:00.000000000', '2016-06-01T00:00:00.000000000',\n",
       "       '2016-07-01T00:00:00.000000000', '2016-08-01T00:00:00.000000000',\n",
       "       '2016-09-01T00:00:00.000000000', '2016-10-01T00:00:00.000000000',\n",
       "       '2016-11-01T00:00:00.000000000', '2016-12-01T00:00:00.000000000',\n",
       "       '2017-01-01T00:00:00.000000000', '2017-02-01T00:00:00.000000000',\n",
       "       '2017-03-01T00:00:00.000000000', '2017-04-01T00:00:00.000000000',\n",
       "       '2017-05-01T00:00:00.000000000', '2017-06-01T00:00:00.000000000',\n",
       "       '2017-07-01T00:00:00.000000000', '2017-08-01T00:00:00.000000000',\n",
       "       '2017-09-01T00:00:00.000000000', '2017-10-01T00:00:00.000000000',\n",
       "       '2017-11-01T00:00:00.000000000', '2017-12-01T00:00:00.000000000',\n",
       "       '2018-01-01T00:00:00.000000000'], dtype='datetime64[ns]')"
      ]
     },
     "execution_count": 9,
     "metadata": {},
     "output_type": "execute_result"
    }
   ],
   "source": [
    "# datetime list for the start of the month\n",
    "start_date = np.array(pd.date_range(start='1/1/2016', end='1/1/2018', freq='MS'))\n",
    "start_date"
   ]
  },
  {
   "cell_type": "code",
   "execution_count": 10,
   "metadata": {
    "collapsed": true
   },
   "outputs": [],
   "source": [
    "an_array = []\n",
    "for date in start_date:\n",
    "    for sensor in sensor_ids:\n",
    "        an_array.append(date)\n",
    "        an_array.append(sensor)"
   ]
  },
  {
   "cell_type": "code",
   "execution_count": 11,
   "metadata": {
    "collapsed": true
   },
   "outputs": [],
   "source": [
    "an_array = np.array(an_array)"
   ]
  },
  {
   "cell_type": "code",
   "execution_count": 13,
   "metadata": {},
   "outputs": [],
   "source": [
    "time_with_id = an_array.reshape(7725, 2)"
   ]
  },
  {
   "cell_type": "code",
   "execution_count": 14,
   "metadata": {
    "collapsed": true,
    "scrolled": true
   },
   "outputs": [],
   "source": [
    "df_adjust = pd.DataFrame(time_with_id, columns=['timestamp', 'sensor_id'])"
   ]
  },
  {
   "cell_type": "code",
   "execution_count": 15,
   "metadata": {},
   "outputs": [
    {
     "data": {
      "text/plain": [
       "timestamp    datetime64[ns]\n",
       "sensor_id            object\n",
       "dtype: object"
      ]
     },
     "execution_count": 15,
     "metadata": {},
     "output_type": "execute_result"
    }
   ],
   "source": [
    "# Remove microseconds\n",
    "df_adjust.timestamp = pd.to_datetime(df_adjust['timestamp'], format='%Y-%m-%dT%H:%M:%S')  \n",
    "# df_adjust.timestamp = df_adjust.timestamp.apply(lambda x: x.replace(microsecond=0))\n",
    "df_adjust.dtypes"
   ]
  },
  {
   "cell_type": "code",
   "execution_count": 16,
   "metadata": {},
   "outputs": [
    {
     "data": {
      "text/html": [
       "<div>\n",
       "<style>\n",
       "    .dataframe thead tr:only-child th {\n",
       "        text-align: right;\n",
       "    }\n",
       "\n",
       "    .dataframe thead th {\n",
       "        text-align: left;\n",
       "    }\n",
       "\n",
       "    .dataframe tbody tr th {\n",
       "        vertical-align: top;\n",
       "    }\n",
       "</style>\n",
       "<table border=\"1\" class=\"dataframe\">\n",
       "  <thead>\n",
       "    <tr style=\"text-align: right;\">\n",
       "      <th></th>\n",
       "      <th>timestamp</th>\n",
       "      <th>sensor_id</th>\n",
       "    </tr>\n",
       "  </thead>\n",
       "  <tbody>\n",
       "    <tr>\n",
       "      <th>0</th>\n",
       "      <td>2016-01-01</td>\n",
       "      <td>60</td>\n",
       "    </tr>\n",
       "    <tr>\n",
       "      <th>1</th>\n",
       "      <td>2016-01-01</td>\n",
       "      <td>170</td>\n",
       "    </tr>\n",
       "    <tr>\n",
       "      <th>2</th>\n",
       "      <td>2016-01-01</td>\n",
       "      <td>103</td>\n",
       "    </tr>\n",
       "    <tr>\n",
       "      <th>3</th>\n",
       "      <td>2016-01-01</td>\n",
       "      <td>219</td>\n",
       "    </tr>\n",
       "    <tr>\n",
       "      <th>4</th>\n",
       "      <td>2016-01-01</td>\n",
       "      <td>171</td>\n",
       "    </tr>\n",
       "  </tbody>\n",
       "</table>\n",
       "</div>"
      ],
      "text/plain": [
       "   timestamp sensor_id\n",
       "0 2016-01-01        60\n",
       "1 2016-01-01       170\n",
       "2 2016-01-01       103\n",
       "3 2016-01-01       219\n",
       "4 2016-01-01       171"
      ]
     },
     "execution_count": 16,
     "metadata": {},
     "output_type": "execute_result"
    }
   ],
   "source": [
    "df_adjust.head()"
   ]
  },
  {
   "cell_type": "code",
   "execution_count": 17,
   "metadata": {
    "collapsed": true,
    "scrolled": true
   },
   "outputs": [],
   "source": [
    "zo_adjusted = zo.merge(df_adjust, how='outer', on=['timestamp', 'sensor_id'])"
   ]
  },
  {
   "cell_type": "code",
   "execution_count": 18,
   "metadata": {
    "scrolled": true
   },
   "outputs": [
    {
     "data": {
      "text/plain": [
       "sensor_id              float64\n",
       "offset_value           float64\n",
       "timestamp       datetime64[ns]\n",
       "dtype: object"
      ]
     },
     "execution_count": 18,
     "metadata": {},
     "output_type": "execute_result"
    }
   ],
   "source": [
    "zo_adjusted.dtypes"
   ]
  },
  {
   "cell_type": "code",
   "execution_count": 19,
   "metadata": {
    "collapsed": true
   },
   "outputs": [],
   "source": [
    "zo_adjusted = zo_adjusted.sort_values('timestamp')"
   ]
  },
  {
   "cell_type": "code",
   "execution_count": 20,
   "metadata": {},
   "outputs": [
    {
     "data": {
      "text/html": [
       "<div>\n",
       "<style>\n",
       "    .dataframe thead tr:only-child th {\n",
       "        text-align: right;\n",
       "    }\n",
       "\n",
       "    .dataframe thead th {\n",
       "        text-align: left;\n",
       "    }\n",
       "\n",
       "    .dataframe tbody tr th {\n",
       "        vertical-align: top;\n",
       "    }\n",
       "</style>\n",
       "<table border=\"1\" class=\"dataframe\">\n",
       "  <thead>\n",
       "    <tr style=\"text-align: right;\">\n",
       "      <th></th>\n",
       "      <th>sensor_id</th>\n",
       "      <th>offset_value</th>\n",
       "      <th>timestamp</th>\n",
       "    </tr>\n",
       "  </thead>\n",
       "  <tbody>\n",
       "    <tr>\n",
       "      <th>33783</th>\n",
       "      <td>60.0</td>\n",
       "      <td>NaN</td>\n",
       "      <td>2016-01-01</td>\n",
       "    </tr>\n",
       "    <tr>\n",
       "      <th>33993</th>\n",
       "      <td>115.0</td>\n",
       "      <td>NaN</td>\n",
       "      <td>2016-01-01</td>\n",
       "    </tr>\n",
       "    <tr>\n",
       "      <th>33992</th>\n",
       "      <td>67.0</td>\n",
       "      <td>NaN</td>\n",
       "      <td>2016-01-01</td>\n",
       "    </tr>\n",
       "    <tr>\n",
       "      <th>33991</th>\n",
       "      <td>61.0</td>\n",
       "      <td>NaN</td>\n",
       "      <td>2016-01-01</td>\n",
       "    </tr>\n",
       "    <tr>\n",
       "      <th>33990</th>\n",
       "      <td>153.0</td>\n",
       "      <td>NaN</td>\n",
       "      <td>2016-01-01</td>\n",
       "    </tr>\n",
       "  </tbody>\n",
       "</table>\n",
       "</div>"
      ],
      "text/plain": [
       "       sensor_id  offset_value  timestamp\n",
       "33783       60.0           NaN 2016-01-01\n",
       "33993      115.0           NaN 2016-01-01\n",
       "33992       67.0           NaN 2016-01-01\n",
       "33991       61.0           NaN 2016-01-01\n",
       "33990      153.0           NaN 2016-01-01"
      ]
     },
     "execution_count": 20,
     "metadata": {},
     "output_type": "execute_result"
    }
   ],
   "source": [
    "zo_adjusted.head()"
   ]
  },
  {
   "cell_type": "code",
   "execution_count": 21,
   "metadata": {},
   "outputs": [
    {
     "data": {
      "text/html": [
       "<div>\n",
       "<style>\n",
       "    .dataframe thead tr:only-child th {\n",
       "        text-align: right;\n",
       "    }\n",
       "\n",
       "    .dataframe thead th {\n",
       "        text-align: left;\n",
       "    }\n",
       "\n",
       "    .dataframe tbody tr th {\n",
       "        vertical-align: top;\n",
       "    }\n",
       "</style>\n",
       "<table border=\"1\" class=\"dataframe\">\n",
       "  <thead>\n",
       "    <tr style=\"text-align: right;\">\n",
       "      <th></th>\n",
       "      <th>sensor_id</th>\n",
       "      <th>offset_value</th>\n",
       "      <th>timestamp</th>\n",
       "    </tr>\n",
       "  </thead>\n",
       "  <tbody>\n",
       "    <tr>\n",
       "      <th>41298</th>\n",
       "      <td>89.0</td>\n",
       "      <td>NaN</td>\n",
       "      <td>2018-01-01</td>\n",
       "    </tr>\n",
       "    <tr>\n",
       "      <th>41297</th>\n",
       "      <td>193.0</td>\n",
       "      <td>NaN</td>\n",
       "      <td>2018-01-01</td>\n",
       "    </tr>\n",
       "    <tr>\n",
       "      <th>41296</th>\n",
       "      <td>209.0</td>\n",
       "      <td>NaN</td>\n",
       "      <td>2018-01-01</td>\n",
       "    </tr>\n",
       "    <tr>\n",
       "      <th>41303</th>\n",
       "      <td>95.0</td>\n",
       "      <td>NaN</td>\n",
       "      <td>2018-01-01</td>\n",
       "    </tr>\n",
       "    <tr>\n",
       "      <th>41507</th>\n",
       "      <td>3003.0</td>\n",
       "      <td>NaN</td>\n",
       "      <td>2018-01-01</td>\n",
       "    </tr>\n",
       "  </tbody>\n",
       "</table>\n",
       "</div>"
      ],
      "text/plain": [
       "       sensor_id  offset_value  timestamp\n",
       "41298       89.0           NaN 2018-01-01\n",
       "41297      193.0           NaN 2018-01-01\n",
       "41296      209.0           NaN 2018-01-01\n",
       "41303       95.0           NaN 2018-01-01\n",
       "41507     3003.0           NaN 2018-01-01"
      ]
     },
     "execution_count": 21,
     "metadata": {},
     "output_type": "execute_result"
    }
   ],
   "source": [
    "zo_adjusted.tail()"
   ]
  },
  {
   "cell_type": "code",
   "execution_count": 22,
   "metadata": {},
   "outputs": [
    {
     "data": {
      "text/plain": [
       "sensor_id          0\n",
       "offset_value    7725\n",
       "timestamp          0\n",
       "dtype: int64"
      ]
     },
     "execution_count": 22,
     "metadata": {},
     "output_type": "execute_result"
    }
   ],
   "source": [
    "zo_adjusted.isnull().sum()"
   ]
  },
  {
   "cell_type": "code",
   "execution_count": 23,
   "metadata": {
    "collapsed": true,
    "scrolled": true
   },
   "outputs": [],
   "source": [
    "# FillNA IF\n",
    "df_temp = []\n",
    "sensor_ids = zo_adjusted['sensor_id'].unique()\n",
    "\n",
    "for sensor in sensor_ids:\n",
    "    df_temp.append(zo_adjusted[zo_adjusted['sensor_id'] == sensor].fillna(method='ffill').fillna(method='bfill'))\n",
    "\n",
    "df = pd.DataFrame()\n",
    "for d in df_temp:\n",
    "    df = pd.concat([df, d])"
   ]
  },
  {
   "cell_type": "code",
   "execution_count": 24,
   "metadata": {
    "collapsed": true,
    "scrolled": true
   },
   "outputs": [],
   "source": [
    "zo_adjusted = df.sort_values('timestamp')"
   ]
  },
  {
   "cell_type": "code",
   "execution_count": 25,
   "metadata": {},
   "outputs": [
    {
     "data": {
      "text/html": [
       "<div>\n",
       "<style>\n",
       "    .dataframe thead tr:only-child th {\n",
       "        text-align: right;\n",
       "    }\n",
       "\n",
       "    .dataframe thead th {\n",
       "        text-align: left;\n",
       "    }\n",
       "\n",
       "    .dataframe tbody tr th {\n",
       "        vertical-align: top;\n",
       "    }\n",
       "</style>\n",
       "<table border=\"1\" class=\"dataframe\">\n",
       "  <thead>\n",
       "    <tr style=\"text-align: right;\">\n",
       "      <th></th>\n",
       "      <th>sensor_id</th>\n",
       "      <th>offset_value</th>\n",
       "      <th>timestamp</th>\n",
       "    </tr>\n",
       "  </thead>\n",
       "  <tbody>\n",
       "    <tr>\n",
       "      <th>33783</th>\n",
       "      <td>60.0</td>\n",
       "      <td>971.59</td>\n",
       "      <td>2016-01-01</td>\n",
       "    </tr>\n",
       "    <tr>\n",
       "      <th>34001</th>\n",
       "      <td>1007.0</td>\n",
       "      <td>0.00</td>\n",
       "      <td>2016-01-01</td>\n",
       "    </tr>\n",
       "    <tr>\n",
       "      <th>33912</th>\n",
       "      <td>192.0</td>\n",
       "      <td>75.53</td>\n",
       "      <td>2016-01-01</td>\n",
       "    </tr>\n",
       "    <tr>\n",
       "      <th>33913</th>\n",
       "      <td>92.0</td>\n",
       "      <td>729.19</td>\n",
       "      <td>2016-01-01</td>\n",
       "    </tr>\n",
       "    <tr>\n",
       "      <th>33914</th>\n",
       "      <td>158.0</td>\n",
       "      <td>0.00</td>\n",
       "      <td>2016-01-01</td>\n",
       "    </tr>\n",
       "  </tbody>\n",
       "</table>\n",
       "</div>"
      ],
      "text/plain": [
       "       sensor_id  offset_value  timestamp\n",
       "33783       60.0        971.59 2016-01-01\n",
       "34001     1007.0          0.00 2016-01-01\n",
       "33912      192.0         75.53 2016-01-01\n",
       "33913       92.0        729.19 2016-01-01\n",
       "33914      158.0          0.00 2016-01-01"
      ]
     },
     "execution_count": 25,
     "metadata": {},
     "output_type": "execute_result"
    }
   ],
   "source": [
    "zo_adjusted.head()"
   ]
  },
  {
   "cell_type": "code",
   "execution_count": 26,
   "metadata": {},
   "outputs": [
    {
     "data": {
      "text/html": [
       "<div>\n",
       "<style>\n",
       "    .dataframe thead tr:only-child th {\n",
       "        text-align: right;\n",
       "    }\n",
       "\n",
       "    .dataframe thead th {\n",
       "        text-align: left;\n",
       "    }\n",
       "\n",
       "    .dataframe tbody tr th {\n",
       "        vertical-align: top;\n",
       "    }\n",
       "</style>\n",
       "<table border=\"1\" class=\"dataframe\">\n",
       "  <thead>\n",
       "    <tr style=\"text-align: right;\">\n",
       "      <th></th>\n",
       "      <th>sensor_id</th>\n",
       "      <th>offset_value</th>\n",
       "      <th>timestamp</th>\n",
       "    </tr>\n",
       "  </thead>\n",
       "  <tbody>\n",
       "    <tr>\n",
       "      <th>41496</th>\n",
       "      <td>2707.0</td>\n",
       "      <td>0.000</td>\n",
       "      <td>2018-01-01</td>\n",
       "    </tr>\n",
       "    <tr>\n",
       "      <th>41261</th>\n",
       "      <td>240.0</td>\n",
       "      <td>0.000</td>\n",
       "      <td>2018-01-01</td>\n",
       "    </tr>\n",
       "    <tr>\n",
       "      <th>41360</th>\n",
       "      <td>232.0</td>\n",
       "      <td>0.000</td>\n",
       "      <td>2018-01-01</td>\n",
       "    </tr>\n",
       "    <tr>\n",
       "      <th>41312</th>\n",
       "      <td>76.0</td>\n",
       "      <td>1866.935</td>\n",
       "      <td>2018-01-01</td>\n",
       "    </tr>\n",
       "    <tr>\n",
       "      <th>41200</th>\n",
       "      <td>170.0</td>\n",
       "      <td>430.436</td>\n",
       "      <td>2018-01-01</td>\n",
       "    </tr>\n",
       "  </tbody>\n",
       "</table>\n",
       "</div>"
      ],
      "text/plain": [
       "       sensor_id  offset_value  timestamp\n",
       "41496     2707.0         0.000 2018-01-01\n",
       "41261      240.0         0.000 2018-01-01\n",
       "41360      232.0         0.000 2018-01-01\n",
       "41312       76.0      1866.935 2018-01-01\n",
       "41200      170.0       430.436 2018-01-01"
      ]
     },
     "execution_count": 26,
     "metadata": {},
     "output_type": "execute_result"
    }
   ],
   "source": [
    "zo_adjusted.tail()"
   ]
  },
  {
   "cell_type": "code",
   "execution_count": 27,
   "metadata": {
    "collapsed": true
   },
   "outputs": [],
   "source": [
    "zo_adjusted.to_csv('zero-offset-z.csv')"
   ]
  },
  {
   "cell_type": "code",
   "execution_count": 38,
   "metadata": {},
   "outputs": [
    {
     "name": "stdout",
     "output_type": "stream",
     "text": [
      "Wrote to file: data1-z.csv\n"
     ]
    }
   ],
   "source": [
    "df = pd.merge(data, zo_adjusted, how='left', on=['timestamp', 'sensor_id'])\n",
    "\n",
    "# Fill NA for each sensor id\n",
    "sensor_ids = df['sensor_id'].unique()\n",
    "df_temp = []\n",
    "for sensor in sensor_ids:\n",
    "    df_temp.append(df[df['sensor_id'] == sensor].fillna(method='ffill').fillna(method='bfill'))\n",
    "\n",
    "df = pd.DataFrame()\n",
    "\n",
    "for d in df_temp:\n",
    "    df = pd.concat([df, d])\n",
    "df = df.sort_values('timestamp')\n",
    "\n",
    "# Write to csv\n",
    "filename = 'data1-z.csv'\n",
    "df.to_csv(filename)\n",
    "print('Wrote to file: ' + filename)"
   ]
  },
  {
   "cell_type": "code",
   "execution_count": null,
   "metadata": {
    "collapsed": true
   },
   "outputs": [],
   "source": []
  }
 ],
 "metadata": {
  "kernelspec": {
   "display_name": "Python [conda root]",
   "language": "python",
   "name": "conda-root-py"
  },
  "language_info": {
   "codemirror_mode": {
    "name": "ipython",
    "version": 3
   },
   "file_extension": ".py",
   "mimetype": "text/x-python",
   "name": "python",
   "nbconvert_exporter": "python",
   "pygments_lexer": "ipython3",
   "version": "3.5.3"
  }
 },
 "nbformat": 4,
 "nbformat_minor": 2
}
