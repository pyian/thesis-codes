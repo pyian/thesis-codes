{
 "cells": [
  {
   "cell_type": "code",
   "execution_count": 23,
   "metadata": {
    "collapsed": true
   },
   "outputs": [],
   "source": [
    "%matplotlib inline\n",
    "\n",
    "import matplotlib.pyplot as plt\n",
    "import numpy as np\n",
    "import pandas as pd\n",
    "import pickle\n",
    "import seaborn as sns\n",
    "\n",
    "sns.set_style('white')\n",
    "sns.set_context(\"poster\")"
   ]
  },
  {
   "cell_type": "code",
   "execution_count": 2,
   "metadata": {
    "collapsed": true
   },
   "outputs": [],
   "source": [
    "# IMPORT ZO\n",
    "zo = pd.read_csv('zero-offset.csv')"
   ]
  },
  {
   "cell_type": "code",
   "execution_count": 3,
   "metadata": {
    "collapsed": true
   },
   "outputs": [],
   "source": [
    "# IMPORT DATA\n",
    "data = pd.read_csv('data1.csv')\n",
    "# Alter date\n",
    "data['timestamp'] = '2016-01-10 20:00:00'"
   ]
  },
  {
   "cell_type": "code",
   "execution_count": 4,
   "metadata": {
    "collapsed": true
   },
   "outputs": [],
   "source": [
    "# CONVERT timestamps to correct data time\n",
    "zo.start_timestamp = pd.to_datetime(zo['start_timestamp'], format='%Y-%m-%dT%H:%M:%S')\n",
    "data.timestamp = pd.to_datetime(data['timestamp'], format='%Y-%m-%dT%H:%M:%S')\n",
    "\n",
    "# SORT BY time df.sort('Date')\n",
    "data = data.sort_values('timestamp')\n",
    "zo = zo.sort_values('start_timestamp')\n",
    "\n",
    "# REMOVE ms\n",
    "zo.start_timestamp = zo.start_timestamp.apply(lambda x: x.replace(microsecond=0))"
   ]
  },
  {
   "cell_type": "code",
   "execution_count": 5,
   "metadata": {
    "collapsed": true,
    "scrolled": true
   },
   "outputs": [],
   "source": [
    "# Drop unnecessary columns\n",
    "zo = zo.reset_index()\n",
    "data = data.reset_index()\n",
    "zo = zo.drop(['Unnamed: 0', 'index'], axis=1)\n",
    "data = data.drop(['id', 'index'], axis=1)\n",
    "# it's Unnamed: 0 and 'index' in the real ones"
   ]
  },
  {
   "cell_type": "code",
   "execution_count": 6,
   "metadata": {
    "collapsed": true
   },
   "outputs": [],
   "source": [
    "# Rename columns\n",
    "zo.columns = ['sensor_id', 'offset_value', 'timestamp']"
   ]
  },
  {
   "cell_type": "code",
   "execution_count": 19,
   "metadata": {},
   "outputs": [
    {
     "data": {
      "text/html": [
       "<div>\n",
       "<style>\n",
       "    .dataframe thead tr:only-child th {\n",
       "        text-align: right;\n",
       "    }\n",
       "\n",
       "    .dataframe thead th {\n",
       "        text-align: left;\n",
       "    }\n",
       "\n",
       "    .dataframe tbody tr th {\n",
       "        vertical-align: top;\n",
       "    }\n",
       "</style>\n",
       "<table border=\"1\" class=\"dataframe\">\n",
       "  <thead>\n",
       "    <tr style=\"text-align: right;\">\n",
       "      <th></th>\n",
       "      <th>d_val</th>\n",
       "      <th>sensor_id</th>\n",
       "      <th>timestamp</th>\n",
       "      <th>offset_value</th>\n",
       "    </tr>\n",
       "  </thead>\n",
       "  <tbody>\n",
       "    <tr>\n",
       "      <th>0</th>\n",
       "      <td>50</td>\n",
       "      <td>166</td>\n",
       "      <td>2016-01-10 19:59:58</td>\n",
       "      <td>NaN</td>\n",
       "    </tr>\n",
       "    <tr>\n",
       "      <th>1</th>\n",
       "      <td>60</td>\n",
       "      <td>166</td>\n",
       "      <td>2016-01-10 19:59:59</td>\n",
       "      <td>20.0</td>\n",
       "    </tr>\n",
       "    <tr>\n",
       "      <th>2</th>\n",
       "      <td>70</td>\n",
       "      <td>166</td>\n",
       "      <td>2016-01-10 20:00:00</td>\n",
       "      <td>20.0</td>\n",
       "    </tr>\n",
       "  </tbody>\n",
       "</table>\n",
       "</div>"
      ],
      "text/plain": [
       "   d_val  sensor_id           timestamp  offset_value\n",
       "0     50        166 2016-01-10 19:59:58           NaN\n",
       "1     60        166 2016-01-10 19:59:59          20.0\n",
       "2     70        166 2016-01-10 20:00:00          20.0"
      ]
     },
     "execution_count": 19,
     "metadata": {},
     "output_type": "execute_result"
    }
   ],
   "source": [
    "# Testing fillna (ffill)\n",
    "test_data = pd.DataFrame({'timestamp': ['2016-01-10 19:59:58', '2016-01-10 19:59:59', '2016-01-10 20:00:00'],\n",
    "                          'sensor_id': [166, 166, 166],\n",
    "                          'd_val': [50, 60, 70]})\n",
    "test_zo = pd.DataFrame({'timestamp': ['2016-01-10 19:59:59'],\n",
    "                     'sensor_id': [166],\n",
    "                     'offset_value': [20]})\n",
    "test_data.timestamp = pd.to_datetime(test_data['timestamp'], format='%Y-%m-%dT%H:%M:%S')\n",
    "test_zo.timestamp = pd.to_datetime(test_zo['timestamp'], format='%Y-%m-%dT%H:%M:%S')\n",
    "\n",
    "df = pd.merge(test_data, test_zo, how='left', on=['timestamp', 'sensor_id'])\n",
    "df = df.fillna(method='ffill')  # forward fill (should fill na with previous value)\n",
    "df.head()"
   ]
  },
  {
   "cell_type": "code",
   "execution_count": 17,
   "metadata": {},
   "outputs": [
    {
     "name": "stdout",
     "output_type": "stream",
     "text": [
      "            timestamp  sensor_id   d_st      d_val  offset_value\n",
      "0 2016-01-10 20:00:00        166  10001  1025.7030           NaN\n",
      "1 2016-01-10 20:00:00        198   1101   645.8704           NaN\n",
      "2 2016-01-10 20:00:00        199   1101   669.6980           NaN\n",
      "3 2016-01-10 20:00:00        200   1101   994.8445           NaN\n",
      "4 2016-01-10 20:00:00        201   1101   760.4407           NaN\n",
      "                 timestamp  sensor_id  d_st     d_val  offset_value\n",
      "999995 2016-01-10 20:00:00       2752  1101  15.60091           NaN\n",
      "999996 2016-01-10 20:00:00       3263  1001  12.67423           NaN\n",
      "999997 2016-01-10 20:00:00       3264  1001  12.58104           NaN\n",
      "999998 2016-01-10 20:00:00       3266  1001  12.66805           NaN\n",
      "999999 2016-01-10 20:00:00       3263  1001  12.69028           NaN\n"
     ]
    },
    {
     "data": {
      "text/plain": [
       "1000000"
      ]
     },
     "execution_count": 17,
     "metadata": {},
     "output_type": "execute_result"
    }
   ],
   "source": [
    "df = pd.merge(data, zo, how='left', on=['timestamp', 'sensor_id'])\n",
    "df = df.fillna(method='ffill')  # forward fill (should fill na with previous value)\n",
    "print(df.head())\n",
    "print(df.tail())\n",
    "len(df)\n",
    "# Join by LEFT"
   ]
  },
  {
   "cell_type": "code",
   "execution_count": 20,
   "metadata": {},
   "outputs": [
    {
     "data": {
      "text/html": [
       "<div>\n",
       "<style>\n",
       "    .dataframe thead tr:only-child th {\n",
       "        text-align: right;\n",
       "    }\n",
       "\n",
       "    .dataframe thead th {\n",
       "        text-align: left;\n",
       "    }\n",
       "\n",
       "    .dataframe tbody tr th {\n",
       "        vertical-align: top;\n",
       "    }\n",
       "</style>\n",
       "<table border=\"1\" class=\"dataframe\">\n",
       "  <thead>\n",
       "    <tr style=\"text-align: right;\">\n",
       "      <th></th>\n",
       "      <th>sensor_id</th>\n",
       "      <th>offset_value</th>\n",
       "      <th>timestamp</th>\n",
       "    </tr>\n",
       "  </thead>\n",
       "  <tbody>\n",
       "    <tr>\n",
       "      <th>0</th>\n",
       "      <td>60</td>\n",
       "      <td>971.59</td>\n",
       "      <td>2016-01-10 19:57:57</td>\n",
       "    </tr>\n",
       "    <tr>\n",
       "      <th>1</th>\n",
       "      <td>170</td>\n",
       "      <td>0.00</td>\n",
       "      <td>2016-01-10 19:57:57</td>\n",
       "    </tr>\n",
       "    <tr>\n",
       "      <th>2</th>\n",
       "      <td>103</td>\n",
       "      <td>0.00</td>\n",
       "      <td>2016-01-10 19:57:57</td>\n",
       "    </tr>\n",
       "    <tr>\n",
       "      <th>3</th>\n",
       "      <td>219</td>\n",
       "      <td>407.43</td>\n",
       "      <td>2016-01-10 19:57:57</td>\n",
       "    </tr>\n",
       "    <tr>\n",
       "      <th>4</th>\n",
       "      <td>171</td>\n",
       "      <td>0.00</td>\n",
       "      <td>2016-01-10 19:57:57</td>\n",
       "    </tr>\n",
       "  </tbody>\n",
       "</table>\n",
       "</div>"
      ],
      "text/plain": [
       "   sensor_id  offset_value           timestamp\n",
       "0         60        971.59 2016-01-10 19:57:57\n",
       "1        170          0.00 2016-01-10 19:57:57\n",
       "2        103          0.00 2016-01-10 19:57:57\n",
       "3        219        407.43 2016-01-10 19:57:57\n",
       "4        171          0.00 2016-01-10 19:57:57"
      ]
     },
     "execution_count": 20,
     "metadata": {},
     "output_type": "execute_result"
    }
   ],
   "source": [
    "zo.head()"
   ]
  },
  {
   "cell_type": "code",
   "execution_count": 21,
   "metadata": {},
   "outputs": [
    {
     "data": {
      "text/html": [
       "<div>\n",
       "<style>\n",
       "    .dataframe thead tr:only-child th {\n",
       "        text-align: right;\n",
       "    }\n",
       "\n",
       "    .dataframe thead th {\n",
       "        text-align: left;\n",
       "    }\n",
       "\n",
       "    .dataframe tbody tr th {\n",
       "        vertical-align: top;\n",
       "    }\n",
       "</style>\n",
       "<table border=\"1\" class=\"dataframe\">\n",
       "  <thead>\n",
       "    <tr style=\"text-align: right;\">\n",
       "      <th></th>\n",
       "      <th>sensor_id</th>\n",
       "      <th>offset_value</th>\n",
       "      <th>timestamp</th>\n",
       "    </tr>\n",
       "  </thead>\n",
       "  <tbody>\n",
       "    <tr>\n",
       "      <th>33778</th>\n",
       "      <td>221</td>\n",
       "      <td>-228.558044</td>\n",
       "      <td>2017-04-11 21:49:10</td>\n",
       "    </tr>\n",
       "    <tr>\n",
       "      <th>33779</th>\n",
       "      <td>108</td>\n",
       "      <td>0.000000</td>\n",
       "      <td>2017-04-11 21:49:10</td>\n",
       "    </tr>\n",
       "    <tr>\n",
       "      <th>33780</th>\n",
       "      <td>220</td>\n",
       "      <td>-621.843943</td>\n",
       "      <td>2017-04-11 21:49:10</td>\n",
       "    </tr>\n",
       "    <tr>\n",
       "      <th>33781</th>\n",
       "      <td>263</td>\n",
       "      <td>0.000000</td>\n",
       "      <td>2017-04-11 21:49:10</td>\n",
       "    </tr>\n",
       "    <tr>\n",
       "      <th>33782</th>\n",
       "      <td>3003</td>\n",
       "      <td>0.000000</td>\n",
       "      <td>2017-04-11 21:49:10</td>\n",
       "    </tr>\n",
       "  </tbody>\n",
       "</table>\n",
       "</div>"
      ],
      "text/plain": [
       "       sensor_id  offset_value           timestamp\n",
       "33778        221   -228.558044 2017-04-11 21:49:10\n",
       "33779        108      0.000000 2017-04-11 21:49:10\n",
       "33780        220   -621.843943 2017-04-11 21:49:10\n",
       "33781        263      0.000000 2017-04-11 21:49:10\n",
       "33782       3003      0.000000 2017-04-11 21:49:10"
      ]
     },
     "execution_count": 21,
     "metadata": {},
     "output_type": "execute_result"
    }
   ],
   "source": [
    "zo.tail()"
   ]
  },
  {
   "cell_type": "code",
   "execution_count": 33,
   "metadata": {},
   "outputs": [
    {
     "data": {
      "text/plain": [
       "array([  60,  170,  103,  219,  171,  172,   72,  102,  173,  174,  101,\n",
       "        218,  249,  175,  217,  100,  264,   73,  176,  177,   99,  216,\n",
       "        178,   98,  179,  215,   74,   97,  248,  180,  250,  241,  104,\n",
       "         71,  111,  159,  252,  224,  160,  110,  262,  161,  109,   69,\n",
       "        162,  163,  223,  108,  164,  222,  107,  251,  165,  270,   70,\n",
       "        166,  106,  167,  168,  105,  263,  220,  240,  169,  181,   96,\n",
       "        182,   88,  194,  245,  195,   87,  196,  208,  197,   86,   79,\n",
       "        198,   85,  267,  199,  207,   84,  244,  200,  268,   80,  201,\n",
       "         83,  206,  202,  203,  205,  243,   82,  204,   78,  209,  193,\n",
       "         89,  214,  183,  269,   75,   95,  265,  184,   94,  247,  185,\n",
       "        213,   93,  186,   76,   68,  187,  188,  212,  189,   91,  211,\n",
       "        246,  190,   77,   90,  266,  191,  210,  242,  192,   92,  158,\n",
       "        221,   81,  125,  119,  147,   62,  271,   65,  118,  148,  137,\n",
       "        234,  149,  229,  136,  117,  254,  150,  135,  151,  257,  237,\n",
       "        228,  259,  116,  146,  238,   63,  122,  232,  142,  140,  143,\n",
       "        256,  231,  123,  121,  144,  112,  233,   64,  120,  260,  139,\n",
       "        124,  255,  145,  230,  138,   66,  126,  141,  261,  134,  253,\n",
       "        227,  154,  113,  131,  132,  133,  114,  128,  226,  152,  236,\n",
       "        155,  235,  156,  129,  225,  258,  130,  127,  239,  153,   61,\n",
       "         67,  115,  157, 1002, 1004, 1001, 1003, 1006, 1005, 1007, 1008,\n",
       "        274,  273,  272, 1236, 1241, 1235, 1242, 1219, 1237, 1239, 1253,\n",
       "       1222, 1254, 1255, 1256, 1257, 1240, 1258, 1223, 1259, 1260, 1252,\n",
       "       1233, 1243, 1220, 1244, 1245, 1246, 1247, 1238, 1248, 1221, 1249,\n",
       "       1250, 1251, 1261, 1224, 1232, 1234, 1270, 1230, 1268, 1264, 1269,\n",
       "       1225, 1262, 1227, 1228, 1266, 1263, 1267, 1226, 1271, 1229, 1265,\n",
       "       1231, 2224, 2222, 2223, 2225, 3264, 3263, 2226, 2220, 2219, 2221,\n",
       "       2230, 2229, 3266, 3265, 2227, 2228, 3002, 3001, 2701, 2702, 2751,\n",
       "       2707, 2752, 2753, 2704, 2705, 2706, 2703, 2755, 2757, 2754, 2756,\n",
       "       3003], dtype=int64)"
      ]
     },
     "execution_count": 33,
     "metadata": {},
     "output_type": "execute_result"
    }
   ],
   "source": [
    "unique_id = zo.sensor_id.unique()\n",
    "unique_id"
   ]
  },
  {
   "cell_type": "code",
   "execution_count": 37,
   "metadata": {},
   "outputs": [
    {
     "name": "stdout",
     "output_type": "stream",
     "text": [
      "Number of non-unique offset-value: 108\n",
      "Number of unique offset-value: 201\n"
     ]
    }
   ],
   "source": [
    "counter = 0\n",
    "\n",
    "for uni_id in unique_id:\n",
    "    length = len(zo[zo.sensor_id == uni_id].offset_value.unique())\n",
    "    if length > 1:\n",
    "        counter += 1\n",
    "print('Number of non-unique offset-value: ' + str(counter))\n",
    "print('Number of unique offset-value: ' + str((len(unique_id) - counter)))"
   ]
  },
  {
   "cell_type": "code",
   "execution_count": null,
   "metadata": {
    "collapsed": true
   },
   "outputs": [],
   "source": []
  }
 ],
 "metadata": {
  "kernelspec": {
   "display_name": "Python [conda root]",
   "language": "python",
   "name": "conda-root-py"
  },
  "language_info": {
   "codemirror_mode": {
    "name": "ipython",
    "version": 3
   },
   "file_extension": ".py",
   "mimetype": "text/x-python",
   "name": "python",
   "nbconvert_exporter": "python",
   "pygments_lexer": "ipython3",
   "version": "3.5.3"
  }
 },
 "nbformat": 4,
 "nbformat_minor": 2
}
